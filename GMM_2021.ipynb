{
 "cells": [
  {
   "cell_type": "markdown",
   "id": "402cc5aa",
   "metadata": {},
   "source": [
    "# Gaussian Mixture Models for Clustering Data"
   ]
  },
  {
   "cell_type": "code",
   "execution_count": 1,
   "id": "c79ca2ae",
   "metadata": {},
   "outputs": [
    {
     "data": {
      "text/html": [
       "<div>\n",
       "<style scoped>\n",
       "    .dataframe tbody tr th:only-of-type {\n",
       "        vertical-align: middle;\n",
       "    }\n",
       "\n",
       "    .dataframe tbody tr th {\n",
       "        vertical-align: top;\n",
       "    }\n",
       "\n",
       "    .dataframe thead th {\n",
       "        text-align: right;\n",
       "    }\n",
       "</style>\n",
       "<table border=\"1\" class=\"dataframe\">\n",
       "  <thead>\n",
       "    <tr style=\"text-align: right;\">\n",
       "      <th></th>\n",
       "      <th>Weight</th>\n",
       "      <th>Height</th>\n",
       "    </tr>\n",
       "  </thead>\n",
       "  <tbody>\n",
       "    <tr>\n",
       "      <th>0</th>\n",
       "      <td>67.062924</td>\n",
       "      <td>176.086355</td>\n",
       "    </tr>\n",
       "    <tr>\n",
       "      <th>1</th>\n",
       "      <td>68.804094</td>\n",
       "      <td>178.388669</td>\n",
       "    </tr>\n",
       "    <tr>\n",
       "      <th>2</th>\n",
       "      <td>60.930863</td>\n",
       "      <td>170.284496</td>\n",
       "    </tr>\n",
       "    <tr>\n",
       "      <th>3</th>\n",
       "      <td>59.733843</td>\n",
       "      <td>168.691992</td>\n",
       "    </tr>\n",
       "    <tr>\n",
       "      <th>4</th>\n",
       "      <td>65.431230</td>\n",
       "      <td>173.763679</td>\n",
       "    </tr>\n",
       "    <tr>\n",
       "      <th>...</th>\n",
       "      <td>...</td>\n",
       "      <td>...</td>\n",
       "    </tr>\n",
       "    <tr>\n",
       "      <th>495</th>\n",
       "      <td>59.976983</td>\n",
       "      <td>169.679741</td>\n",
       "    </tr>\n",
       "    <tr>\n",
       "      <th>496</th>\n",
       "      <td>66.423814</td>\n",
       "      <td>174.625574</td>\n",
       "    </tr>\n",
       "    <tr>\n",
       "      <th>497</th>\n",
       "      <td>53.604698</td>\n",
       "      <td>161.919208</td>\n",
       "    </tr>\n",
       "    <tr>\n",
       "      <th>498</th>\n",
       "      <td>50.433644</td>\n",
       "      <td>160.794875</td>\n",
       "    </tr>\n",
       "    <tr>\n",
       "      <th>499</th>\n",
       "      <td>60.224392</td>\n",
       "      <td>169.689709</td>\n",
       "    </tr>\n",
       "  </tbody>\n",
       "</table>\n",
       "<p>500 rows × 2 columns</p>\n",
       "</div>"
      ],
      "text/plain": [
       "        Weight      Height\n",
       "0    67.062924  176.086355\n",
       "1    68.804094  178.388669\n",
       "2    60.930863  170.284496\n",
       "3    59.733843  168.691992\n",
       "4    65.431230  173.763679\n",
       "..         ...         ...\n",
       "495  59.976983  169.679741\n",
       "496  66.423814  174.625574\n",
       "497  53.604698  161.919208\n",
       "498  50.433644  160.794875\n",
       "499  60.224392  169.689709\n",
       "\n",
       "[500 rows x 2 columns]"
      ]
     },
     "execution_count": 1,
     "metadata": {},
     "output_type": "execute_result"
    }
   ],
   "source": [
    "import pandas as pd\n",
    "Load_data = pd.read_csv('Clustering_gmm.csv')\n",
    "Load_data"
   ]
  },
  {
   "cell_type": "code",
   "execution_count": 2,
   "id": "648ca49f",
   "metadata": {},
   "outputs": [
    {
     "data": {
      "text/plain": [
       "Text(0.5, 1.0, 'Data Distribution')"
      ]
     },
     "execution_count": 2,
     "metadata": {},
     "output_type": "execute_result"
    },
    {
     "data": {
      "image/png": "[encoded data removed]",
      "text/plain": [
       "<Figure size 504x504 with 1 Axes>"
      ]
     },
     "metadata": {
      "needs_background": "light"
     },
     "output_type": "display_data"
    }
   ],
   "source": [
    "import matplotlib.pyplot as plt\n",
    "plt.figure(figsize=(7,7))\n",
    "plt.scatter(Load_data[\"Weight\"],Load_data[\"Height\"])\n",
    "plt.xlabel('Weight')\n",
    "plt.ylabel('Height')\n",
    "plt.title('Data Distribution')"
   ]
  },
  {
   "cell_type": "markdown",
   "id": "a6fff93f",
   "metadata": {},
   "source": [
    "# Use GMM to Cluster Data"
   ]
  },
  {
   "cell_type": "code",
   "execution_count": 3,
   "id": "9395869e",
   "metadata": {},
   "outputs": [],
   "source": [
    "from sklearn.mixture import GaussianMixture\n",
    "gmm = GaussianMixture(n_components = 4)"
   ]
  },
  {
   "cell_type": "code",
   "execution_count": 4,
   "id": "58301fb9",
   "metadata": {},
   "outputs": [
    {
     "data": {
      "text/plain": [
       "GaussianMixture(n_components=4)"
      ]
     },
     "execution_count": 4,
     "metadata": {},
     "output_type": "execute_result"
    }
   ],
   "source": [
    "gmm.fit(Load_data)"
   ]
  },
  {
   "cell_type": "markdown",
   "id": "21643d2d",
   "metadata": {},
   "source": [
    "# Predictions From GMM"
   ]
  },
  {
   "cell_type": "code",
   "execution_count": 5,
   "id": "b9145d4e",
   "metadata": {},
   "outputs": [],
   "source": [
    "Labels = gmm.predict(Load_data)"
   ]
  },
  {
   "cell_type": "code",
   "execution_count": 6,
   "id": "39bedc97",
   "metadata": {},
   "outputs": [
    {
     "data": {
      "text/plain": [
       "array([3, 3, 2, 2, 3, 1, 1, 2, 2, 0, 1, 3, 1, 0, 2, 2, 3, 2, 0, 2, 2, 3,\n",
       "       1, 0, 2, 0, 3, 1, 0, 1, 1, 1, 3, 1, 1, 3, 0, 2, 0, 3, 0, 2, 2, 3,\n",
       "       1, 3, 2, 2, 3, 3, 0, 0, 1, 2, 2, 1, 1, 0, 0, 3, 3, 0, 3, 3, 3, 1,\n",
       "       2, 3, 2, 1, 0, 2, 0, 3, 0, 3, 1, 1, 2, 2, 0, 2, 0, 2, 2, 1, 0, 0,\n",
       "       3, 0, 0, 0, 3, 0, 2, 2, 3, 3, 3, 2, 0, 0, 3, 0, 2, 2, 1, 3, 2, 0,\n",
       "       0, 1, 0, 0, 3, 0, 3, 2, 1, 3, 2, 0, 3, 3, 0, 3, 3, 3, 3, 0, 2, 0,\n",
       "       1, 0, 0, 0, 2, 3, 2, 1, 3, 3, 3, 3, 1, 0, 2, 2, 1, 0, 0, 3, 2, 2,\n",
       "       2, 1, 1, 3, 1, 2, 3, 2, 3, 3, 1, 1, 3, 2, 0, 1, 3, 0, 3, 1, 2, 0,\n",
       "       2, 0, 0, 0, 3, 3, 3, 2, 1, 0, 1, 3, 1, 0, 3, 1, 0, 1, 1, 0, 2, 1,\n",
       "       2, 0, 0, 2, 1, 1, 2, 1, 1, 2, 1, 1, 1, 3, 3, 3, 2, 3, 1, 0, 0, 0,\n",
       "       2, 3, 1, 0, 1, 3, 0, 2, 0, 1, 1, 1, 1, 1, 2, 2, 2, 1, 0, 3, 3, 1,\n",
       "       1, 3, 0, 0, 2, 3, 2, 2, 2, 1, 3, 0, 2, 0, 0, 1, 0, 1, 2, 2, 3, 0,\n",
       "       3, 3, 2, 2, 0, 3, 2, 0, 3, 1, 3, 0, 1, 1, 2, 3, 3, 2, 3, 1, 3, 1,\n",
       "       1, 3, 2, 2, 2, 3, 0, 0, 3, 0, 0, 0, 2, 3, 3, 0, 2, 0, 3, 3, 1, 0,\n",
       "       0, 2, 0, 2, 3, 2, 0, 1, 0, 1, 1, 2, 2, 2, 1, 1, 0, 3, 2, 1, 0, 3,\n",
       "       2, 2, 3, 3, 1, 3, 1, 1, 2, 1, 0, 3, 3, 2, 3, 2, 3, 3, 3, 3, 2, 3,\n",
       "       2, 3, 2, 2, 0, 3, 2, 0, 0, 1, 2, 3, 3, 1, 1, 3, 1, 0, 2, 2, 2, 0,\n",
       "       2, 1, 2, 0, 0, 2, 0, 0, 1, 0, 0, 1, 1, 1, 1, 0, 0, 0, 0, 3, 0, 3,\n",
       "       2, 3, 0, 2, 3, 2, 3, 2, 1, 1, 0, 2, 0, 1, 2, 3, 0, 1, 2, 3, 0, 1,\n",
       "       1, 2, 3, 2, 3, 1, 3, 2, 3, 0, 1, 3, 0, 3, 2, 1, 2, 1, 3, 0, 2, 2,\n",
       "       1, 3, 3, 2, 2, 1, 2, 1, 0, 3, 1, 3, 0, 1, 1, 1, 0, 1, 2, 0, 1, 1,\n",
       "       1, 1, 1, 2, 0, 3, 1, 3, 2, 3, 1, 0, 2, 0, 1, 0, 2, 0, 2, 1, 1, 0,\n",
       "       1, 1, 1, 0, 3, 1, 1, 0, 2, 1, 1, 2, 3, 0, 0, 2], dtype=int64)"
      ]
     },
     "execution_count": 6,
     "metadata": {},
     "output_type": "execute_result"
    }
   ],
   "source": [
    "Labels"
   ]
  },
  {
   "cell_type": "code",
   "execution_count": 7,
   "id": "13ce1be6",
   "metadata": {},
   "outputs": [],
   "source": [
    "df = pd.DataFrame(Load_data)"
   ]
  },
  {
   "cell_type": "code",
   "execution_count": 8,
   "id": "5e925296",
   "metadata": {},
   "outputs": [],
   "source": [
    "df['cluster'] = Labels"
   ]
  },
  {
   "cell_type": "code",
   "execution_count": 9,
   "id": "bad45d8f",
   "metadata": {},
   "outputs": [
    {
     "data": {
      "text/html": [
       "<div>\n",
       "<style scoped>\n",
       "    .dataframe tbody tr th:only-of-type {\n",
       "        vertical-align: middle;\n",
       "    }\n",
       "\n",
       "    .dataframe tbody tr th {\n",
       "        vertical-align: top;\n",
       "    }\n",
       "\n",
       "    .dataframe thead th {\n",
       "        text-align: right;\n",
       "    }\n",
       "</style>\n",
       "<table border=\"1\" class=\"dataframe\">\n",
       "  <thead>\n",
       "    <tr style=\"text-align: right;\">\n",
       "      <th></th>\n",
       "      <th>Weight</th>\n",
       "      <th>Height</th>\n",
       "      <th>cluster</th>\n",
       "    </tr>\n",
       "  </thead>\n",
       "  <tbody>\n",
       "    <tr>\n",
       "      <th>0</th>\n",
       "      <td>67.062924</td>\n",
       "      <td>176.086355</td>\n",
       "      <td>3</td>\n",
       "    </tr>\n",
       "    <tr>\n",
       "      <th>1</th>\n",
       "      <td>68.804094</td>\n",
       "      <td>178.388669</td>\n",
       "      <td>3</td>\n",
       "    </tr>\n",
       "    <tr>\n",
       "      <th>2</th>\n",
       "      <td>60.930863</td>\n",
       "      <td>170.284496</td>\n",
       "      <td>2</td>\n",
       "    </tr>\n",
       "    <tr>\n",
       "      <th>3</th>\n",
       "      <td>59.733843</td>\n",
       "      <td>168.691992</td>\n",
       "      <td>2</td>\n",
       "    </tr>\n",
       "    <tr>\n",
       "      <th>4</th>\n",
       "      <td>65.431230</td>\n",
       "      <td>173.763679</td>\n",
       "      <td>3</td>\n",
       "    </tr>\n",
       "    <tr>\n",
       "      <th>...</th>\n",
       "      <td>...</td>\n",
       "      <td>...</td>\n",
       "      <td>...</td>\n",
       "    </tr>\n",
       "    <tr>\n",
       "      <th>495</th>\n",
       "      <td>59.976983</td>\n",
       "      <td>169.679741</td>\n",
       "      <td>2</td>\n",
       "    </tr>\n",
       "    <tr>\n",
       "      <th>496</th>\n",
       "      <td>66.423814</td>\n",
       "      <td>174.625574</td>\n",
       "      <td>3</td>\n",
       "    </tr>\n",
       "    <tr>\n",
       "      <th>497</th>\n",
       "      <td>53.604698</td>\n",
       "      <td>161.919208</td>\n",
       "      <td>0</td>\n",
       "    </tr>\n",
       "    <tr>\n",
       "      <th>498</th>\n",
       "      <td>50.433644</td>\n",
       "      <td>160.794875</td>\n",
       "      <td>0</td>\n",
       "    </tr>\n",
       "    <tr>\n",
       "      <th>499</th>\n",
       "      <td>60.224392</td>\n",
       "      <td>169.689709</td>\n",
       "      <td>2</td>\n",
       "    </tr>\n",
       "  </tbody>\n",
       "</table>\n",
       "<p>500 rows × 3 columns</p>\n",
       "</div>"
      ],
      "text/plain": [
       "        Weight      Height  cluster\n",
       "0    67.062924  176.086355        3\n",
       "1    68.804094  178.388669        3\n",
       "2    60.930863  170.284496        2\n",
       "3    59.733843  168.691992        2\n",
       "4    65.431230  173.763679        3\n",
       "..         ...         ...      ...\n",
       "495  59.976983  169.679741        2\n",
       "496  66.423814  174.625574        3\n",
       "497  53.604698  161.919208        0\n",
       "498  50.433644  160.794875        0\n",
       "499  60.224392  169.689709        2\n",
       "\n",
       "[500 rows x 3 columns]"
      ]
     },
     "execution_count": 9,
     "metadata": {},
     "output_type": "execute_result"
    }
   ],
   "source": [
    "df"
   ]
  },
  {
   "cell_type": "code",
   "execution_count": 10,
   "id": "aed1e9c9",
   "metadata": {},
   "outputs": [],
   "source": [
    "df.columns = ['Weight', 'Height', 'cluster']"
   ]
  },
  {
   "cell_type": "code",
   "execution_count": 11,
   "id": "a18f7a23",
   "metadata": {},
   "outputs": [],
   "source": [
    "color = ['green', 'red', 'blue','cyan']"
   ]
  },
  {
   "cell_type": "code",
   "execution_count": 12,
   "id": "16b374a4",
   "metadata": {},
   "outputs": [
    {
     "data": {
      "image/png": "[encoded data removed]",
      "text/plain": [
       "<Figure size 432x288 with 1 Axes>"
      ]
     },
     "metadata": {
      "needs_background": "light"
     },
     "output_type": "display_data"
    }
   ],
   "source": [
    "for k in range(0,4):\n",
    "    Load_data = df[df[\"cluster\"]==k]\n",
    "    plt.scatter(Load_data[\"Weight\"], Load_data[\"Height\"],c = color[k])"
   ]
  },
  {
   "cell_type": "markdown",
   "id": "7560697e",
   "metadata": {},
   "source": [
    "# Apply K - Means and Give the Difference with GMM"
   ]
  },
  {
   "cell_type": "code",
   "execution_count": 13,
   "id": "727775e6",
   "metadata": {},
   "outputs": [],
   "source": [
    "Load_data = pd.read_csv('Clustering_gmm.csv')"
   ]
  },
  {
   "cell_type": "code",
   "execution_count": 14,
   "id": "e34e4099",
   "metadata": {},
   "outputs": [
    {
     "data": {
      "text/plain": [
       "KMeans(n_clusters=4)"
      ]
     },
     "execution_count": 14,
     "metadata": {},
     "output_type": "execute_result"
    }
   ],
   "source": [
    "from sklearn.cluster import KMeans\n",
    "kmeans = KMeans(n_clusters=4)\n",
    "kmeans.fit(Load_data)"
   ]
  },
  {
   "cell_type": "code",
   "execution_count": 15,
   "id": "c0cab668",
   "metadata": {},
   "outputs": [],
   "source": [
    "pred_K = kmeans.predict(Load_data)\n",
    "df_k = pd.DataFrame(Load_data)\n",
    "df_k['cluster'] = pred_K\n",
    "df_k.columns = ['Weight', 'Height', 'cluster']"
   ]
  },
  {
   "cell_type": "code",
   "execution_count": 16,
   "id": "a0ba202e",
   "metadata": {},
   "outputs": [
    {
     "data": {
      "image/png": "[encoded data removed]",
      "text/plain": [
       "<Figure size 432x288 with 1 Axes>"
      ]
     },
     "metadata": {
      "needs_background": "light"
     },
     "output_type": "display_data"
    }
   ],
   "source": [
    "color = ['green', 'red', 'blue','cyan']\n",
    "for k in range(0,4):\n",
    "    Load_data = df_k[df_k[\"cluster\"]==k]\n",
    "    plt.scatter(Load_data[\"Weight\"],Load_data[\"Height\"],c=color[k])"
   ]
  },
  {
   "cell_type": "code",
   "execution_count": null,
   "id": "6d2b9e27",
   "metadata": {},
   "outputs": [],
   "source": []
  }
 ],
 "metadata": {
  "kernelspec": {
   "display_name": "Python 3",
   "language": "python",
   "name": "python3"
  },
  "language_info": {
   "codemirror_mode": {
    "name": "ipython",
    "version": 3
   },
   "file_extension": ".py",
   "mimetype": "text/x-python",
   "name": "python",
   "nbconvert_exporter": "python",
   "pygments_lexer": "ipython3",
   "version": "3.8.8"
  }
 },
 "nbformat": 4,
 "nbformat_minor": 5
}

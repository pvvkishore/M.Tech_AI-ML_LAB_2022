{
 "cells": [
  {
   "cell_type": "markdown",
   "metadata": {},
   "source": [
    "# How to use LR for Prediction"
   ]
  },
  {
   "cell_type": "markdown",
   "metadata": {},
   "source": [
    "Objective is to predict the annual inssurance based on some parameters"
   ]
  },
  {
   "cell_type": "markdown",
   "metadata": {},
   "source": [
    "https://www.coverfox.com/"
   ]
  },
  {
   "cell_type": "markdown",
   "metadata": {},
   "source": [
    "# Buit a Dataset. datasets_13720_18513_insurance.csv"
   ]
  },
  {
   "cell_type": "markdown",
   "metadata": {},
   "source": [
    "# Age, # Gender, # Smoker, # Region, # BMI and out put Y(Insurnace)"
   ]
  },
  {
   "cell_type": "code",
   "execution_count": 26,
   "metadata": {},
   "outputs": [],
   "source": [
    "import pandas as pd\n",
    "import numpy as np\n",
    "import matplotlib.pyplot as plt\n",
    "from sklearn.model_selection import train_test_split\n",
    "from sklearn.linear_model import LinearRegression\n",
    "from sklearn import metrics\n",
    "import seaborn as seabornInstance"
   ]
  },
  {
   "cell_type": "code",
   "execution_count": 27,
   "metadata": {},
   "outputs": [],
   "source": [
    "#data = pd.read_csv('datasets_13720_18513_insurance_MAIN.csv')"
   ]
  },
  {
   "cell_type": "code",
   "execution_count": 28,
   "metadata": {},
   "outputs": [],
   "source": [
    "#data = pd.read_csv('datasets_13720_18513_insurance_NA.csv')"
   ]
  },
  {
   "cell_type": "code",
   "execution_count": 50,
   "metadata": {},
   "outputs": [],
   "source": [
    "data = pd.read_csv('datasets_13720_18513_insurance_1.csv')"
   ]
  },
  {
   "cell_type": "code",
   "execution_count": 51,
   "metadata": {},
   "outputs": [
    {
     "data": {
      "text/html": [
       "<div>\n",
       "<style scoped>\n",
       "    .dataframe tbody tr th:only-of-type {\n",
       "        vertical-align: middle;\n",
       "    }\n",
       "\n",
       "    .dataframe tbody tr th {\n",
       "        vertical-align: top;\n",
       "    }\n",
       "\n",
       "    .dataframe thead th {\n",
       "        text-align: right;\n",
       "    }\n",
       "</style>\n",
       "<table border=\"1\" class=\"dataframe\">\n",
       "  <thead>\n",
       "    <tr style=\"text-align: right;\">\n",
       "      <th></th>\n",
       "      <th>age</th>\n",
       "      <th>sex</th>\n",
       "      <th>bmi</th>\n",
       "      <th>children</th>\n",
       "      <th>smoker</th>\n",
       "      <th>region</th>\n",
       "      <th>charges</th>\n",
       "    </tr>\n",
       "  </thead>\n",
       "  <tbody>\n",
       "    <tr>\n",
       "      <th>0</th>\n",
       "      <td>19</td>\n",
       "      <td>2</td>\n",
       "      <td>27.900</td>\n",
       "      <td>0</td>\n",
       "      <td>11</td>\n",
       "      <td>10</td>\n",
       "      <td>16884.92400</td>\n",
       "    </tr>\n",
       "    <tr>\n",
       "      <th>1</th>\n",
       "      <td>18</td>\n",
       "      <td>8</td>\n",
       "      <td>33.770</td>\n",
       "      <td>1</td>\n",
       "      <td>22</td>\n",
       "      <td>20</td>\n",
       "      <td>1725.55230</td>\n",
       "    </tr>\n",
       "    <tr>\n",
       "      <th>2</th>\n",
       "      <td>28</td>\n",
       "      <td>8</td>\n",
       "      <td>33.000</td>\n",
       "      <td>3</td>\n",
       "      <td>22</td>\n",
       "      <td>20</td>\n",
       "      <td>4449.46200</td>\n",
       "    </tr>\n",
       "    <tr>\n",
       "      <th>3</th>\n",
       "      <td>33</td>\n",
       "      <td>8</td>\n",
       "      <td>22.705</td>\n",
       "      <td>0</td>\n",
       "      <td>22</td>\n",
       "      <td>30</td>\n",
       "      <td>21984.47061</td>\n",
       "    </tr>\n",
       "    <tr>\n",
       "      <th>4</th>\n",
       "      <td>32</td>\n",
       "      <td>8</td>\n",
       "      <td>28.880</td>\n",
       "      <td>0</td>\n",
       "      <td>22</td>\n",
       "      <td>30</td>\n",
       "      <td>3866.85520</td>\n",
       "    </tr>\n",
       "    <tr>\n",
       "      <th>...</th>\n",
       "      <td>...</td>\n",
       "      <td>...</td>\n",
       "      <td>...</td>\n",
       "      <td>...</td>\n",
       "      <td>...</td>\n",
       "      <td>...</td>\n",
       "      <td>...</td>\n",
       "    </tr>\n",
       "    <tr>\n",
       "      <th>1333</th>\n",
       "      <td>50</td>\n",
       "      <td>8</td>\n",
       "      <td>30.970</td>\n",
       "      <td>3</td>\n",
       "      <td>22</td>\n",
       "      <td>30</td>\n",
       "      <td>10600.54830</td>\n",
       "    </tr>\n",
       "    <tr>\n",
       "      <th>1334</th>\n",
       "      <td>18</td>\n",
       "      <td>2</td>\n",
       "      <td>31.920</td>\n",
       "      <td>0</td>\n",
       "      <td>22</td>\n",
       "      <td>40</td>\n",
       "      <td>2205.98080</td>\n",
       "    </tr>\n",
       "    <tr>\n",
       "      <th>1335</th>\n",
       "      <td>18</td>\n",
       "      <td>2</td>\n",
       "      <td>36.850</td>\n",
       "      <td>0</td>\n",
       "      <td>22</td>\n",
       "      <td>20</td>\n",
       "      <td>1629.83350</td>\n",
       "    </tr>\n",
       "    <tr>\n",
       "      <th>1336</th>\n",
       "      <td>21</td>\n",
       "      <td>2</td>\n",
       "      <td>25.800</td>\n",
       "      <td>0</td>\n",
       "      <td>22</td>\n",
       "      <td>10</td>\n",
       "      <td>2007.94500</td>\n",
       "    </tr>\n",
       "    <tr>\n",
       "      <th>1337</th>\n",
       "      <td>61</td>\n",
       "      <td>2</td>\n",
       "      <td>29.070</td>\n",
       "      <td>0</td>\n",
       "      <td>11</td>\n",
       "      <td>30</td>\n",
       "      <td>29141.36030</td>\n",
       "    </tr>\n",
       "  </tbody>\n",
       "</table>\n",
       "<p>1338 rows × 7 columns</p>\n",
       "</div>"
      ],
      "text/plain": [
       "      age  sex     bmi  children  smoker  region      charges\n",
       "0      19    2  27.900         0      11      10  16884.92400\n",
       "1      18    8  33.770         1      22      20   1725.55230\n",
       "2      28    8  33.000         3      22      20   4449.46200\n",
       "3      33    8  22.705         0      22      30  21984.47061\n",
       "4      32    8  28.880         0      22      30   3866.85520\n",
       "...   ...  ...     ...       ...     ...     ...          ...\n",
       "1333   50    8  30.970         3      22      30  10600.54830\n",
       "1334   18    2  31.920         0      22      40   2205.98080\n",
       "1335   18    2  36.850         0      22      20   1629.83350\n",
       "1336   21    2  25.800         0      22      10   2007.94500\n",
       "1337   61    2  29.070         0      11      30  29141.36030\n",
       "\n",
       "[1338 rows x 7 columns]"
      ]
     },
     "execution_count": 51,
     "metadata": {},
     "output_type": "execute_result"
    }
   ],
   "source": [
    "data"
   ]
  },
  {
   "cell_type": "markdown",
   "metadata": {},
   "source": [
    "# Encode the data into Numbers.....and Number Only as Input to any program in this world.....if you are a programmer.....and if ....."
   ]
  },
  {
   "cell_type": "markdown",
   "metadata": {},
   "source": [
    "# Different types of data encoding formats..... we and the most widely used, accepted by ML world is ..... Put numbers in palce of words to uniquely represent the words"
   ]
  },
  {
   "cell_type": "code",
   "execution_count": 31,
   "metadata": {},
   "outputs": [
    {
     "name": "stdout",
     "output_type": "stream",
     "text": [
      "(1338, 7)\n"
     ]
    }
   ],
   "source": [
    "print(data.shape)"
   ]
  },
  {
   "cell_type": "code",
   "execution_count": 32,
   "metadata": {},
   "outputs": [
    {
     "data": {
      "text/plain": [
       "(1338, 7)"
      ]
     },
     "execution_count": 32,
     "metadata": {},
     "output_type": "execute_result"
    }
   ],
   "source": [
    "data.shape"
   ]
  },
  {
   "cell_type": "markdown",
   "metadata": {},
   "source": [
    "# Data Checks - - Undersatnd your data before feeding it to a model"
   ]
  },
  {
   "cell_type": "code",
   "execution_count": 33,
   "metadata": {},
   "outputs": [
    {
     "name": "stdout",
     "output_type": "stream",
     "text": [
      "               age          sex          bmi     children       smoker  \\\n",
      "count  1338.000000  1337.000000  1337.000000  1337.000000  1337.000000   \n",
      "mean     39.207025     0.495138    30.657326     1.094989     0.204188   \n",
      "std      14.049960     0.500163     6.102097     1.205320     0.403258   \n",
      "min      18.000000     0.000000    15.960000     0.000000     0.000000   \n",
      "25%      27.000000     0.000000    26.220000     0.000000     0.000000   \n",
      "50%      39.000000     0.000000    30.360000     1.000000     0.000000   \n",
      "75%      51.000000     1.000000    34.700000     2.000000     0.000000   \n",
      "max      64.000000     1.000000    53.130000     5.000000     1.000000   \n",
      "\n",
      "            region       charges  \n",
      "count  1338.000000   1338.000000  \n",
      "mean      1.484305  13269.740499  \n",
      "std       1.104885  12110.447033  \n",
      "min       0.000000   1121.873900  \n",
      "25%       1.000000   4740.287150  \n",
      "50%       1.000000   9382.033000  \n",
      "75%       2.000000  16639.912515  \n",
      "max       3.000000  63770.428010  \n"
     ]
    }
   ],
   "source": [
    "print(data.describe())"
   ]
  },
  {
   "cell_type": "code",
   "execution_count": 52,
   "metadata": {},
   "outputs": [
    {
     "name": "stdout",
     "output_type": "stream",
     "text": [
      "age         False\n",
      "sex         False\n",
      "bmi         False\n",
      "children    False\n",
      "smoker      False\n",
      "region      False\n",
      "charges     False\n",
      "dtype: bool\n"
     ]
    }
   ],
   "source": [
    "print(data.isnull().any())"
   ]
  },
  {
   "cell_type": "code",
   "execution_count": 53,
   "metadata": {},
   "outputs": [],
   "source": [
    "data = data.fillna(method='ffill')"
   ]
  },
  {
   "cell_type": "code",
   "execution_count": 54,
   "metadata": {},
   "outputs": [
    {
     "name": "stdout",
     "output_type": "stream",
     "text": [
      "age         False\n",
      "sex         False\n",
      "bmi         False\n",
      "children    False\n",
      "smoker      False\n",
      "region      False\n",
      "charges     False\n",
      "dtype: bool\n"
     ]
    }
   ],
   "source": [
    "print(data.isnull().any())"
   ]
  },
  {
   "cell_type": "code",
   "execution_count": 55,
   "metadata": {
    "scrolled": true
   },
   "outputs": [
    {
     "data": {
      "text/html": [
       "<div>\n",
       "<style scoped>\n",
       "    .dataframe tbody tr th:only-of-type {\n",
       "        vertical-align: middle;\n",
       "    }\n",
       "\n",
       "    .dataframe tbody tr th {\n",
       "        vertical-align: top;\n",
       "    }\n",
       "\n",
       "    .dataframe thead th {\n",
       "        text-align: right;\n",
       "    }\n",
       "</style>\n",
       "<table border=\"1\" class=\"dataframe\">\n",
       "  <thead>\n",
       "    <tr style=\"text-align: right;\">\n",
       "      <th></th>\n",
       "      <th>age</th>\n",
       "      <th>sex</th>\n",
       "      <th>bmi</th>\n",
       "      <th>children</th>\n",
       "      <th>smoker</th>\n",
       "      <th>region</th>\n",
       "      <th>charges</th>\n",
       "    </tr>\n",
       "  </thead>\n",
       "  <tbody>\n",
       "    <tr>\n",
       "      <th>0</th>\n",
       "      <td>19</td>\n",
       "      <td>2</td>\n",
       "      <td>27.900</td>\n",
       "      <td>0</td>\n",
       "      <td>11</td>\n",
       "      <td>10</td>\n",
       "      <td>16884.92400</td>\n",
       "    </tr>\n",
       "    <tr>\n",
       "      <th>1</th>\n",
       "      <td>18</td>\n",
       "      <td>8</td>\n",
       "      <td>33.770</td>\n",
       "      <td>1</td>\n",
       "      <td>22</td>\n",
       "      <td>20</td>\n",
       "      <td>1725.55230</td>\n",
       "    </tr>\n",
       "    <tr>\n",
       "      <th>2</th>\n",
       "      <td>28</td>\n",
       "      <td>8</td>\n",
       "      <td>33.000</td>\n",
       "      <td>3</td>\n",
       "      <td>22</td>\n",
       "      <td>20</td>\n",
       "      <td>4449.46200</td>\n",
       "    </tr>\n",
       "    <tr>\n",
       "      <th>3</th>\n",
       "      <td>33</td>\n",
       "      <td>8</td>\n",
       "      <td>22.705</td>\n",
       "      <td>0</td>\n",
       "      <td>22</td>\n",
       "      <td>30</td>\n",
       "      <td>21984.47061</td>\n",
       "    </tr>\n",
       "    <tr>\n",
       "      <th>4</th>\n",
       "      <td>32</td>\n",
       "      <td>8</td>\n",
       "      <td>28.880</td>\n",
       "      <td>0</td>\n",
       "      <td>22</td>\n",
       "      <td>30</td>\n",
       "      <td>3866.85520</td>\n",
       "    </tr>\n",
       "    <tr>\n",
       "      <th>...</th>\n",
       "      <td>...</td>\n",
       "      <td>...</td>\n",
       "      <td>...</td>\n",
       "      <td>...</td>\n",
       "      <td>...</td>\n",
       "      <td>...</td>\n",
       "      <td>...</td>\n",
       "    </tr>\n",
       "    <tr>\n",
       "      <th>1333</th>\n",
       "      <td>50</td>\n",
       "      <td>8</td>\n",
       "      <td>30.970</td>\n",
       "      <td>3</td>\n",
       "      <td>22</td>\n",
       "      <td>30</td>\n",
       "      <td>10600.54830</td>\n",
       "    </tr>\n",
       "    <tr>\n",
       "      <th>1334</th>\n",
       "      <td>18</td>\n",
       "      <td>2</td>\n",
       "      <td>31.920</td>\n",
       "      <td>0</td>\n",
       "      <td>22</td>\n",
       "      <td>40</td>\n",
       "      <td>2205.98080</td>\n",
       "    </tr>\n",
       "    <tr>\n",
       "      <th>1335</th>\n",
       "      <td>18</td>\n",
       "      <td>2</td>\n",
       "      <td>36.850</td>\n",
       "      <td>0</td>\n",
       "      <td>22</td>\n",
       "      <td>20</td>\n",
       "      <td>1629.83350</td>\n",
       "    </tr>\n",
       "    <tr>\n",
       "      <th>1336</th>\n",
       "      <td>21</td>\n",
       "      <td>2</td>\n",
       "      <td>25.800</td>\n",
       "      <td>0</td>\n",
       "      <td>22</td>\n",
       "      <td>10</td>\n",
       "      <td>2007.94500</td>\n",
       "    </tr>\n",
       "    <tr>\n",
       "      <th>1337</th>\n",
       "      <td>61</td>\n",
       "      <td>2</td>\n",
       "      <td>29.070</td>\n",
       "      <td>0</td>\n",
       "      <td>11</td>\n",
       "      <td>30</td>\n",
       "      <td>29141.36030</td>\n",
       "    </tr>\n",
       "  </tbody>\n",
       "</table>\n",
       "<p>1338 rows × 7 columns</p>\n",
       "</div>"
      ],
      "text/plain": [
       "      age  sex     bmi  children  smoker  region      charges\n",
       "0      19    2  27.900         0      11      10  16884.92400\n",
       "1      18    8  33.770         1      22      20   1725.55230\n",
       "2      28    8  33.000         3      22      20   4449.46200\n",
       "3      33    8  22.705         0      22      30  21984.47061\n",
       "4      32    8  28.880         0      22      30   3866.85520\n",
       "...   ...  ...     ...       ...     ...     ...          ...\n",
       "1333   50    8  30.970         3      22      30  10600.54830\n",
       "1334   18    2  31.920         0      22      40   2205.98080\n",
       "1335   18    2  36.850         0      22      20   1629.83350\n",
       "1336   21    2  25.800         0      22      10   2007.94500\n",
       "1337   61    2  29.070         0      11      30  29141.36030\n",
       "\n",
       "[1338 rows x 7 columns]"
      ]
     },
     "execution_count": 55,
     "metadata": {},
     "output_type": "execute_result"
    }
   ],
   "source": [
    "data"
   ]
  },
  {
   "cell_type": "markdown",
   "metadata": {},
   "source": [
    "# For LR, Seperate Out X and Y "
   ]
  },
  {
   "cell_type": "code",
   "execution_count": 56,
   "metadata": {},
   "outputs": [],
   "source": [
    "X = data[['age', 'sex', 'bmi', 'children', 'smoker', 'region']].values"
   ]
  },
  {
   "cell_type": "code",
   "execution_count": 57,
   "metadata": {},
   "outputs": [
    {
     "data": {
      "text/plain": [
       "array([[19.  ,  2.  , 27.9 ,  0.  , 11.  , 10.  ],\n",
       "       [18.  ,  8.  , 33.77,  1.  , 22.  , 20.  ],\n",
       "       [28.  ,  8.  , 33.  ,  3.  , 22.  , 20.  ],\n",
       "       ...,\n",
       "       [18.  ,  2.  , 36.85,  0.  , 22.  , 20.  ],\n",
       "       [21.  ,  2.  , 25.8 ,  0.  , 22.  , 10.  ],\n",
       "       [61.  ,  2.  , 29.07,  0.  , 11.  , 30.  ]])"
      ]
     },
     "execution_count": 57,
     "metadata": {},
     "output_type": "execute_result"
    }
   ],
   "source": [
    "X"
   ]
  },
  {
   "cell_type": "code",
   "execution_count": 58,
   "metadata": {},
   "outputs": [
    {
     "data": {
      "text/plain": [
       "(1338, 6)"
      ]
     },
     "execution_count": 58,
     "metadata": {},
     "output_type": "execute_result"
    }
   ],
   "source": [
    "X.shape"
   ]
  },
  {
   "cell_type": "code",
   "execution_count": 59,
   "metadata": {},
   "outputs": [],
   "source": [
    "Y = data['charges'].values"
   ]
  },
  {
   "cell_type": "code",
   "execution_count": 60,
   "metadata": {},
   "outputs": [
    {
     "data": {
      "text/plain": [
       "array([16884.924 ,  1725.5523,  4449.462 , ...,  1629.8335,  2007.945 ,\n",
       "       29141.3603])"
      ]
     },
     "execution_count": 60,
     "metadata": {},
     "output_type": "execute_result"
    }
   ],
   "source": [
    "Y"
   ]
  },
  {
   "cell_type": "markdown",
   "metadata": {},
   "source": [
    "# Plot and See How Our Data Looks Visually -  Always Preferred in Industry"
   ]
  },
  {
   "cell_type": "code",
   "execution_count": 61,
   "metadata": {},
   "outputs": [
    {
     "name": "stderr",
     "output_type": "stream",
     "text": [
      "C:\\Users\\Dr.PVVK\\anaconda3\\lib\\site-packages\\seaborn\\distributions.py:2557: FutureWarning: `distplot` is a deprecated function and will be removed in a future version. Please adapt your code to use either `displot` (a figure-level function with similar flexibility) or `histplot` (an axes-level function for histograms).\n",
      "  warnings.warn(msg, FutureWarning)\n"
     ]
    },
    {
     "data": {
      "text/plain": [
       "<AxesSubplot:xlabel='charges', ylabel='Density'>"
      ]
     },
     "execution_count": 61,
     "metadata": {},
     "output_type": "execute_result"
    },
    {
     "data": {
      "image/png": "[encoded data removed]",
      "text/plain": [
       "<Figure size 1080x720 with 1 Axes>"
      ]
     },
     "metadata": {
      "needs_background": "light"
     },
     "output_type": "display_data"
    }
   ],
   "source": [
    "plt.figure(figsize = (15,10))\n",
    "plt.tight_layout()\n",
    "seabornInstance.distplot(data['charges'])"
   ]
  },
  {
   "cell_type": "markdown",
   "metadata": {},
   "source": [
    "# Split the data into training and testing sets"
   ]
  },
  {
   "cell_type": "code",
   "execution_count": 62,
   "metadata": {},
   "outputs": [],
   "source": [
    "X_train, X_test, Y_train, Y_test = train_test_split(X, Y, test_size=0.3, random_state = 42)"
   ]
  },
  {
   "cell_type": "code",
   "execution_count": 63,
   "metadata": {},
   "outputs": [
    {
     "data": {
      "text/plain": [
       "(936, 6)"
      ]
     },
     "execution_count": 63,
     "metadata": {},
     "output_type": "execute_result"
    }
   ],
   "source": [
    "X_train.shape"
   ]
  },
  {
   "cell_type": "code",
   "execution_count": 64,
   "metadata": {},
   "outputs": [
    {
     "data": {
      "text/plain": [
       "(402, 6)"
      ]
     },
     "execution_count": 64,
     "metadata": {},
     "output_type": "execute_result"
    }
   ],
   "source": [
    "X_test.shape"
   ]
  },
  {
   "cell_type": "code",
   "execution_count": 65,
   "metadata": {},
   "outputs": [
    {
     "data": {
      "text/plain": [
       "array([[61.   ,  2.   , 31.16 ,  0.   , 22.   , 30.   ],\n",
       "       [46.   ,  8.   , 27.6  ,  0.   , 22.   , 10.   ],\n",
       "       [54.   ,  2.   , 31.9  ,  3.   , 22.   , 20.   ],\n",
       "       ...,\n",
       "       [58.   ,  8.   , 25.175,  0.   , 22.   , 40.   ],\n",
       "       [37.   ,  2.   , 47.6  ,  2.   , 11.   , 10.   ],\n",
       "       [55.   ,  8.   , 29.9  ,  0.   , 22.   , 10.   ]])"
      ]
     },
     "execution_count": 65,
     "metadata": {},
     "output_type": "execute_result"
    }
   ],
   "source": [
    "X_train"
   ]
  },
  {
   "cell_type": "markdown",
   "metadata": {},
   "source": [
    "# random_state = 42, ensures that the split remains constant on every program run and it is important if you want to reproduce the results on simultaneous runs."
   ]
  },
  {
   "cell_type": "code",
   "execution_count": 66,
   "metadata": {},
   "outputs": [],
   "source": [
    "regressor = LinearRegression()"
   ]
  },
  {
   "cell_type": "markdown",
   "metadata": {},
   "source": [
    "https://scikit-learn.org/stable/"
   ]
  },
  {
   "cell_type": "markdown",
   "metadata": {},
   "source": [
    "https://scikit-learn.org/stable/modules/generated/sklearn.linear_model.LinearRegression.html"
   ]
  },
  {
   "cell_type": "markdown",
   "metadata": {},
   "source": [
    "# Training "
   ]
  },
  {
   "cell_type": "code",
   "execution_count": 67,
   "metadata": {},
   "outputs": [],
   "source": [
    "regressor.fit(X_train, Y_train)\n",
    "Y_pred = regressor.predict(X_test)"
   ]
  },
  {
   "cell_type": "code",
   "execution_count": 68,
   "metadata": {},
   "outputs": [
    {
     "data": {
      "text/plain": [
       "array([ 8.93142116e+03,  7.07090670e+03,  3.69370805e+04,  9.59699214e+03,\n",
       "        2.70083549e+04,  1.08664849e+04,  3.74610217e+01,  1.72228092e+04,\n",
       "        9.18308115e+02,  1.13965537e+04,  2.79154456e+04,  9.53381323e+03,\n",
       "        5.18928014e+03,  3.86124990e+04,  4.05094490e+04,  3.72748566e+04,\n",
       "        1.53562559e+04,  3.59449407e+04,  9.10631783e+03,  3.14429410e+04,\n",
       "        3.66298253e+03,  1.00966745e+04,  2.21091896e+03,  7.10598084e+03,\n",
       "        1.13521417e+04,  1.30231210e+04,  1.44472857e+04,  6.12031303e+03,\n",
       "        9.94564893e+03,  2.18617424e+03,  8.91389260e+03,  1.31869496e+04,\n",
       "        4.49110116e+03,  3.30469662e+03,  4.32885102e+03,  1.32330189e+04,\n",
       "        1.67071398e+03,  8.63238607e+03,  3.32727214e+04,  3.26840062e+04,\n",
       "        3.60294190e+03,  4.40040903e+03,  1.40663345e+04,  1.16268203e+04,\n",
       "        8.89219642e+03,  1.21011367e+04,  5.23906853e+03,  2.84241293e+03,\n",
       "        3.56294259e+04,  9.27854339e+03,  1.59720792e+04,  2.34524488e+03,\n",
       "        1.24695907e+04,  1.45575199e+03,  1.36060478e+04,  1.27386152e+04,\n",
       "        4.36613796e+03,  3.22719994e+04,  1.32349447e+04,  1.29578859e+04,\n",
       "        1.40951649e+04,  1.05369676e+04,  1.64362140e+04,  7.75461795e+03,\n",
       "        1.18779662e+04,  3.99480572e+03,  2.64330928e+04,  1.10659605e+04,\n",
       "        2.03158533e+03,  6.13115399e+03,  1.08767882e+04,  1.16479288e+04,\n",
       "        1.10243957e+04,  9.28705268e+03,  1.21416074e+04,  6.70998959e+03,\n",
       "        7.30925330e+03,  1.07977596e+04,  6.52692249e+03,  8.55728949e+03,\n",
       "        3.80852363e+03,  3.67844754e+04,  6.14441916e+03,  3.07570013e+04,\n",
       "        3.50094357e+04,  3.54124821e+04,  7.09149212e+03,  1.31006630e+04,\n",
       "        9.98014918e+03,  1.45154809e+04,  1.78305771e+04,  3.52686158e+04,\n",
       "        3.29784225e+04,  6.22933443e+03,  3.20886288e+04,  9.43560516e+03,\n",
       "        2.94772073e+04,  3.58517664e+03,  2.82020377e+04,  5.72599261e+03,\n",
       "        5.36908283e+03,  1.58445451e+03,  1.16903588e+04,  1.51280855e+04,\n",
       "        1.18546309e+04,  4.35394125e+03,  1.00266822e+04,  3.17802817e+04,\n",
       "       -1.48104195e+02,  3.27772034e+04,  3.14119000e+03,  1.03506397e+04,\n",
       "        1.43957986e+04,  3.15739258e+04,  1.14847275e+04,  3.79273137e+03,\n",
       "        1.32950567e+04,  3.15750153e+04,  8.12355507e+03,  3.28730085e+03,\n",
       "        8.41136792e+03,  1.07776201e+04,  1.53125155e+04,  5.72672481e+03,\n",
       "        3.69907719e+03,  1.02751918e+04,  1.09365360e+04,  1.12670571e+04,\n",
       "        1.45465772e+04,  7.54959534e+03,  5.32238745e+03,  9.34711885e+03,\n",
       "        9.34370053e+03,  1.25996636e+04,  8.16069315e+03,  1.54087671e+04,\n",
       "        8.52238619e+03,  3.17112944e+04,  3.58615001e+04,  3.15416516e+04,\n",
       "        5.99075866e+03,  1.26637568e+04,  6.09837646e+03,  1.46914670e+04,\n",
       "        2.50155681e+03,  3.28754173e+04,  6.36065967e+03,  4.79287176e+03,\n",
       "        1.44614304e+04,  6.85575464e+03,  3.87691431e+04,  3.01513756e+03,\n",
       "        5.97616737e+03,  3.17494933e+04,  1.16517535e+04,  8.58762133e+03,\n",
       "        1.50293832e+04,  9.82274269e+03,  2.69822534e+04,  3.35479130e+04,\n",
       "        1.46237783e+04,  1.57471099e+03,  1.31790001e+04,  2.20744054e+03,\n",
       "        5.32298532e+03,  1.17395267e+04,  3.97487819e+04,  3.65786298e+04,\n",
       "        3.41034394e+04,  3.63657142e+03,  7.23905466e+03,  8.48169987e+03,\n",
       "        1.26452175e+04,  4.88932998e+03,  1.74915089e+03,  3.21887949e+04,\n",
       "        2.49014504e+04,  1.77835495e+04,  2.62715499e+04,  1.02083595e+04,\n",
       "        3.72965033e+04, -6.52360342e+02,  6.88231317e+03,  7.58702522e+03,\n",
       "        4.36293824e+03,  5.07700999e+03,  5.96907983e+03,  4.04888331e+03,\n",
       "        1.53182327e+04,  1.13331480e+04,  6.83898258e+03,  2.39352108e+03,\n",
       "        1.37792303e+03,  3.18527846e+04,  1.66917992e+04,  1.20745723e+04,\n",
       "        1.14919812e+03,  1.25625910e+04,  1.41156831e+03,  8.55785296e+03,\n",
       "        1.77064557e+03,  3.40708782e+04,  1.10256141e+04,  2.63243650e+03,\n",
       "        2.55079532e+04,  2.61948641e+04,  9.59950672e+03,  1.66993572e+03,\n",
       "        1.34838387e+04,  7.87765692e+02,  1.03599201e+04,  1.05819030e+04,\n",
       "        1.70814008e+04,  2.68387842e+04,  7.00938297e+03,  5.10751649e+03,\n",
       "        5.78098372e+03,  1.32803923e+04,  1.11319095e+04,  8.35083139e+03,\n",
       "        5.11042689e+03,  1.25467353e+04,  1.40772626e+04,  3.59251544e+04,\n",
       "        4.23789294e+03,  2.89538327e+04, -1.27526758e+03,  2.92930773e+03,\n",
       "        1.12062922e+04,  1.57880970e+04,  5.28294712e+03,  6.87109043e+03,\n",
       "        3.56790897e+03,  3.12149215e+04,  7.23091139e+03,  1.26084664e+04,\n",
       "        5.70762316e+03,  9.50312570e+03,  3.63497801e+04,  4.48337473e+03,\n",
       "        9.65037954e+03,  3.10538973e+04,  5.73141678e+03,  4.51810286e+03,\n",
       "        1.06359747e+03,  4.92434635e+03,  4.30546329e+03,  6.41542240e+03,\n",
       "        1.88165410e+04, -1.58767500e+03,  2.08726159e+03,  1.06664386e+04,\n",
       "        2.87099675e+03,  1.02075046e+04,  3.66954356e+03,  5.05237573e+03,\n",
       "        1.24207550e+04,  6.33066928e+03,  8.32234154e+03,  7.52601017e+03,\n",
       "        8.93227534e+03,  1.05347636e+04,  2.78205086e+04,  3.92856297e+04,\n",
       "        1.18447191e+04,  7.76727113e+03,  4.10661436e+04,  1.22069344e+04,\n",
       "        7.06633749e+03,  8.31134638e+03,  9.15260379e+03,  1.11327147e+04,\n",
       "        1.01074213e+04,  1.78630232e+04,  7.84425363e+02,  2.35054301e+04,\n",
       "        1.28402370e+04,  3.32540123e+04,  5.21396476e+03,  1.33702622e+04,\n",
       "        1.04393089e+04,  1.79306010e+04,  9.81175719e+03,  1.15961440e+04,\n",
       "        3.21617330e+04,  3.31986358e+03,  1.37496402e+04,  3.95683833e+04,\n",
       "        5.54333858e+03,  6.23384509e+03,  3.34274209e+03,  1.13602421e+04,\n",
       "        2.53553476e+04,  1.42751792e+04,  9.36322233e+03,  1.01541781e+04,\n",
       "        1.36846064e+04,  7.04846551e+02,  2.40293110e+03,  3.08256247e+04,\n",
       "        2.98939248e+04,  1.37971445e+04,  3.66840086e+03,  2.54033560e+04,\n",
       "        1.36099681e+04,  3.08035817e+04,  3.40774884e+03,  3.91303562e+04,\n",
       "        1.13520181e+04,  4.88112196e+03,  6.63012225e+03,  2.57264447e+03,\n",
       "        2.58941048e+04,  1.43159019e+04,  3.67727374e+02,  1.26690993e+04,\n",
       "        1.28517230e+04,  1.50524315e+04,  3.51550959e+04,  1.44614312e+04,\n",
       "        3.16849510e+04,  9.88814606e+03,  1.82342812e+04,  5.85771654e+03,\n",
       "        8.99261803e+03,  9.27620101e+03,  1.54708619e+04,  8.98736496e+03,\n",
       "        8.41456605e+03,  1.50608819e+04,  1.28253602e+04,  1.49321014e+04,\n",
       "        7.38658206e+03,  2.61065024e+04,  9.37846298e+03,  1.84801777e+03,\n",
       "        4.29082654e+03,  1.42115781e+04,  3.58650882e+04,  9.49708847e+03,\n",
       "        1.28255300e+04,  5.29979460e+03,  4.97447308e+03,  3.81342220e+03,\n",
       "        2.72083867e+03,  9.03161410e+03,  7.19875937e+03,  2.49342629e+03,\n",
       "        1.30461468e+04,  8.90160139e+03,  5.81259221e+03,  5.38198278e+02,\n",
       "        9.31275778e+03,  4.97277878e+03,  3.31106597e+04,  2.85736717e+04,\n",
       "        3.70597724e+04,  5.48953746e+03,  8.72326591e+03,  8.39711736e+03,\n",
       "        3.36207746e+03,  3.16373339e+04,  7.14468257e+03,  2.84245186e+04,\n",
       "        3.62304876e+04,  7.13435976e+03,  1.28623795e+04,  9.91674109e+03,\n",
       "        8.34333364e+03,  1.27928552e+04,  3.01641764e+04,  1.71595116e+04,\n",
       "        1.20106593e+04,  4.00580087e+03, -1.43018949e+03,  1.22043703e+04,\n",
       "        3.07650613e+04,  1.31623933e+04,  1.12000279e+04,  7.95694801e+03,\n",
       "        3.61330671e+03,  7.02240292e+03,  7.06987605e+03,  1.05760938e+04,\n",
       "        3.37742354e+04,  3.90910529e+04,  1.18223109e+04,  8.34561825e+03,\n",
       "        1.66015909e+04,  1.57702432e+04,  9.51209017e+03,  9.18903542e+03,\n",
       "        8.93273210e+03,  2.58258875e+03,  1.00252352e+04,  3.92756091e+03,\n",
       "        1.05130405e+04,  1.61335516e+04,  6.74383693e+03,  2.06620349e+03,\n",
       "        1.46977981e+04,  2.73823510e+00])"
      ]
     },
     "execution_count": 68,
     "metadata": {},
     "output_type": "execute_result"
    }
   ],
   "source": [
    "Y_pred"
   ]
  },
  {
   "cell_type": "code",
   "execution_count": 69,
   "metadata": {},
   "outputs": [],
   "source": [
    "E = sum(Y_test - Y_pred)**2"
   ]
  },
  {
   "cell_type": "code",
   "execution_count": 70,
   "metadata": {},
   "outputs": [
    {
     "data": {
      "text/plain": [
       "4482982170.147902"
      ]
     },
     "execution_count": 70,
     "metadata": {},
     "output_type": "execute_result"
    }
   ],
   "source": [
    "E"
   ]
  },
  {
   "cell_type": "code",
   "execution_count": 71,
   "metadata": {},
   "outputs": [],
   "source": [
    "df = pd.DataFrame({'Actual':Y_test, 'Predicted': Y_pred})"
   ]
  },
  {
   "cell_type": "code",
   "execution_count": 72,
   "metadata": {},
   "outputs": [
    {
     "data": {
      "text/html": [
       "<div>\n",
       "<style scoped>\n",
       "    .dataframe tbody tr th:only-of-type {\n",
       "        vertical-align: middle;\n",
       "    }\n",
       "\n",
       "    .dataframe tbody tr th {\n",
       "        vertical-align: top;\n",
       "    }\n",
       "\n",
       "    .dataframe thead th {\n",
       "        text-align: right;\n",
       "    }\n",
       "</style>\n",
       "<table border=\"1\" class=\"dataframe\">\n",
       "  <thead>\n",
       "    <tr style=\"text-align: right;\">\n",
       "      <th></th>\n",
       "      <th>Actual</th>\n",
       "      <th>Predicted</th>\n",
       "    </tr>\n",
       "  </thead>\n",
       "  <tbody>\n",
       "    <tr>\n",
       "      <th>0</th>\n",
       "      <td>9095.06825</td>\n",
       "      <td>8931.421164</td>\n",
       "    </tr>\n",
       "    <tr>\n",
       "      <th>1</th>\n",
       "      <td>5272.17580</td>\n",
       "      <td>7070.906703</td>\n",
       "    </tr>\n",
       "    <tr>\n",
       "      <th>2</th>\n",
       "      <td>29330.98315</td>\n",
       "      <td>36937.080496</td>\n",
       "    </tr>\n",
       "    <tr>\n",
       "      <th>3</th>\n",
       "      <td>9301.89355</td>\n",
       "      <td>9596.992144</td>\n",
       "    </tr>\n",
       "    <tr>\n",
       "      <th>4</th>\n",
       "      <td>33750.29180</td>\n",
       "      <td>27008.354871</td>\n",
       "    </tr>\n",
       "    <tr>\n",
       "      <th>...</th>\n",
       "      <td>...</td>\n",
       "      <td>...</td>\n",
       "    </tr>\n",
       "    <tr>\n",
       "      <th>397</th>\n",
       "      <td>9541.69555</td>\n",
       "      <td>16133.551618</td>\n",
       "    </tr>\n",
       "    <tr>\n",
       "      <th>398</th>\n",
       "      <td>4399.73100</td>\n",
       "      <td>6743.836928</td>\n",
       "    </tr>\n",
       "    <tr>\n",
       "      <th>399</th>\n",
       "      <td>2200.83085</td>\n",
       "      <td>2066.203492</td>\n",
       "    </tr>\n",
       "    <tr>\n",
       "      <th>400</th>\n",
       "      <td>11363.28320</td>\n",
       "      <td>14697.798124</td>\n",
       "    </tr>\n",
       "    <tr>\n",
       "      <th>401</th>\n",
       "      <td>1964.78000</td>\n",
       "      <td>2.738235</td>\n",
       "    </tr>\n",
       "  </tbody>\n",
       "</table>\n",
       "<p>402 rows × 2 columns</p>\n",
       "</div>"
      ],
      "text/plain": [
       "          Actual     Predicted\n",
       "0     9095.06825   8931.421164\n",
       "1     5272.17580   7070.906703\n",
       "2    29330.98315  36937.080496\n",
       "3     9301.89355   9596.992144\n",
       "4    33750.29180  27008.354871\n",
       "..           ...           ...\n",
       "397   9541.69555  16133.551618\n",
       "398   4399.73100   6743.836928\n",
       "399   2200.83085   2066.203492\n",
       "400  11363.28320  14697.798124\n",
       "401   1964.78000      2.738235\n",
       "\n",
       "[402 rows x 2 columns]"
      ]
     },
     "execution_count": 72,
     "metadata": {},
     "output_type": "execute_result"
    }
   ],
   "source": [
    "df"
   ]
  },
  {
   "cell_type": "code",
   "execution_count": 73,
   "metadata": {},
   "outputs": [
    {
     "data": {
      "image/png": "[encoded data removed]",
      "text/plain": [
       "<Figure size 1440x576 with 1 Axes>"
      ]
     },
     "metadata": {
      "needs_background": "light"
     },
     "output_type": "display_data"
    }
   ],
   "source": [
    "df1 = df.head(25)\n",
    "df1.plot(kind = 'bar', figsize = (20,8))\n",
    "plt.grid(which='major', linestyle='-', linewidth='0.5', color='green')\n",
    "plt.grid(which='minor', linestyle=':', linewidth='0.5', color='black')\n",
    "plt.show()"
   ]
  },
  {
   "cell_type": "code",
   "execution_count": 74,
   "metadata": {},
   "outputs": [
    {
     "name": "stdout",
     "output_type": "stream",
     "text": [
      "Mean Absolute Error: 4155.2398430593785\n",
      "Mean Squared Error: 33805466.89868861\n",
      "Root Mean Squared Error: 5814.246890069995\n"
     ]
    }
   ],
   "source": [
    "print('Mean Absolute Error:', metrics.mean_absolute_error(Y_test, Y_pred))  \n",
    "print('Mean Squared Error:', metrics.mean_squared_error(Y_test, Y_pred))  \n",
    "print('Root Mean Squared Error:', np.sqrt(metrics.mean_squared_error(Y_test, Y_pred)))"
   ]
  },
  {
   "cell_type": "markdown",
   "metadata": {},
   "source": [
    "# Test the Model. How .... Give inputs and check \n",
    "# Ask your Model Questions. \n",
    "\n",
    "\n",
    "# Lets ask"
   ]
  },
  {
   "cell_type": "code",
   "execution_count": 75,
   "metadata": {},
   "outputs": [
    {
     "name": "stdout",
     "output_type": "stream",
     "text": [
      "Enter your age:\n",
      "43\n",
      "Age, 43\n",
      "Enter your sex:\n",
      "2\n",
      "M/F, 2\n",
      "Enter your bmi:\n",
      "25\n",
      "bmi, 25\n",
      "Enter how many childern:\n",
      "2\n",
      "Childern, 2\n",
      "Enter your smoker:\n",
      "11\n",
      "Smoke, 11\n",
      "Enter your region:\n",
      "10\n",
      "region, 10\n"
     ]
    }
   ],
   "source": [
    "print('Enter your age:')\n",
    "x1 = input()\n",
    "print('Age, ' + x1)\n",
    "print('Enter your sex:')\n",
    "x2 = input()\n",
    "print('M/F, ' + x2)\n",
    "print('Enter your bmi:')\n",
    "x3 = input()\n",
    "print('bmi, ' + x3)\n",
    "print('Enter how many childern:')\n",
    "x4 = input()\n",
    "print('Childern, ' + x4)\n",
    "print('Enter your smoker:')\n",
    "x5 = input()\n",
    "print('Smoke, ' + x5)\n",
    "print('Enter your region:')\n",
    "x6 = input()\n",
    "print('region, ' + x6)"
   ]
  },
  {
   "cell_type": "markdown",
   "metadata": {},
   "source": [
    "# Give all these inputs to your model. And ask to predict "
   ]
  },
  {
   "cell_type": "code",
   "execution_count": 76,
   "metadata": {},
   "outputs": [],
   "source": [
    "X_in = np.array([[x1], [x2], [x3], [x4], [x5],[x6]], dtype=float)"
   ]
  },
  {
   "cell_type": "code",
   "execution_count": 77,
   "metadata": {},
   "outputs": [
    {
     "data": {
      "text/plain": [
       "array([[43.],\n",
       "       [ 2.],\n",
       "       [25.],\n",
       "       [ 2.],\n",
       "       [11.],\n",
       "       [10.]])"
      ]
     },
     "execution_count": 77,
     "metadata": {},
     "output_type": "execute_result"
    }
   ],
   "source": [
    "X_in"
   ]
  },
  {
   "cell_type": "code",
   "execution_count": 78,
   "metadata": {},
   "outputs": [],
   "source": [
    "X_test = X_in.reshape(1, 6)"
   ]
  },
  {
   "cell_type": "code",
   "execution_count": 79,
   "metadata": {},
   "outputs": [
    {
     "data": {
      "text/plain": [
       "array([[43.,  2., 25.,  2., 11., 10.]])"
      ]
     },
     "execution_count": 79,
     "metadata": {},
     "output_type": "execute_result"
    }
   ],
   "source": [
    "X_test"
   ]
  },
  {
   "cell_type": "code",
   "execution_count": 80,
   "metadata": {},
   "outputs": [],
   "source": [
    "Y_pred1 = regressor.predict(X_test)"
   ]
  },
  {
   "cell_type": "code",
   "execution_count": 81,
   "metadata": {},
   "outputs": [
    {
     "name": "stdout",
     "output_type": "stream",
     "text": [
      "Your Annual Insurance is [30989.28908494]\n"
     ]
    }
   ],
   "source": [
    "print('Your Annual Insurance is', Y_pred1)"
   ]
  },
  {
   "cell_type": "code",
   "execution_count": null,
   "metadata": {},
   "outputs": [],
   "source": []
  }
 ],
 "metadata": {
  "kernelspec": {
   "display_name": "Python 3",
   "language": "python",
   "name": "python3"
  },
  "language_info": {
   "codemirror_mode": {
    "name": "ipython",
    "version": 3
   },
   "file_extension": ".py",
   "mimetype": "text/x-python",
   "name": "python",
   "nbconvert_exporter": "python",
   "pygments_lexer": "ipython3",
   "version": "3.8.8"
  }
 },
 "nbformat": 4,
 "nbformat_minor": 4
}
